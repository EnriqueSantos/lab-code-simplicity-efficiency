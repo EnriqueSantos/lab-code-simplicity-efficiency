{
 "cells": [
  {
   "cell_type": "code",
   "execution_count": 17,
   "metadata": {},
   "outputs": [
    {
     "name": "stdout",
     "output_type": "stream",
     "text": [
      "Welcome to this calculator!\n",
      "It can add and subtract whole numbers from zero to five\n",
      "Please choose your first number (zero to five): zero\n",
      "What do you want to do? plus or minus: minus\n",
      "Please choose your second number (zero to five): five\n",
      "zero minus five equals negative five\n",
      "Thanks for using this calculator, goodbye :)\n"
     ]
    }
   ],
   "source": [
    "\"\"\"\n",
    "This is a dumb calculator that can add and subtract whole numbers from zero to five.\n",
    "When you run the code, you are prompted to enter two numbers (in the form of English\n",
    "word instead of number) and the operator sign (also in the form of English word).\n",
    "The code will perform the calculation and give the result if your input is what it\n",
    "expects.\n",
    "\n",
    "The code is very long and messy. Refactor it according to what you have learned about\n",
    "code simplicity and efficiency.\n",
    "\"\"\"\n",
    "\n",
    "print('Welcome to this calculator!')\n",
    "print('It can add and subtract whole numbers from zero to five')\n",
    "a = input('Please choose your first number (zero to five): ')\n",
    "b = input('What do you want to do? plus or minus: ')\n",
    "c = input('Please choose your second number (zero to five): ')\n",
    "\n",
    "nums = {'zero':0,'one':1,'two':2,'three':3,'four':4,'five':5}\n",
    "vals = {'0':'zero','1':'one','2':'two','3':'three','4':'four','5':'five'}\n",
    "ops = {'plus':'+','minus':'-'}\n",
    "check_num = lambda x: True if x in nums else False\n",
    "check_op = lambda x: True if x in ops else False\n",
    "\n",
    "def operation(n1,op,n2):\n",
    "    if (check_num(n1) and check_num(n2) and check_op(op)):\n",
    "        if op == 'plus':\n",
    "            res = nums[n1] + nums[n2]\n",
    "            print('%s %s %s equals %s' % (n1,op,n2,vals[str(res)]))\n",
    "        else:\n",
    "            res = nums[n1] - nums[n2]\n",
    "            print('%s %s %s equals negative %s' % (n1,op,n2,vals[str(res*-1)]))\n",
    "    else:\n",
    "        print(\"I am not able to answer this question. Check your input.\")\n",
    "\n",
    "operation(a,b,c)\n",
    "print(\"Thanks for using this calculator, goodbye :)\")"
   ]
  },
  {
   "cell_type": "code",
   "execution_count": 20,
   "metadata": {},
   "outputs": [
    {
     "name": "stdout",
     "output_type": "stream",
     "text": [
      "Enter minimum string length: 2\n",
      "Enter maximum string length: 4\n",
      "How many random strings to generate? 3\n",
      "['rye', 'wj', 'xp']\n"
     ]
    }
   ],
   "source": [
    "\"\"\"\n",
    "The code below generates a given number of random strings that consists of numbers and \n",
    "lower case English letters. You can also define the range of the variable lengths of\n",
    "the strings being generated.\n",
    "\n",
    "The code is functional but has a lot of room for improvement. Use what you have learned\n",
    "about simple and efficient code, refactor the code.\n",
    "\"\"\"\n",
    "import random\n",
    "import sys\n",
    "\n",
    "def BatchStringGenerator(n_str, min_range, max_range):\n",
    "    r = []\n",
    "    for i in range(n_str):\n",
    "        c = None\n",
    "        if a < b:\n",
    "            c = random.choice(range(a, b))\n",
    "        elif a == b:\n",
    "            c = a\n",
    "        else:\n",
    "            sys.exit('Incorrect min and max string lengths. Try again.')\n",
    "        r.append(RandomStringGenerator(c))\n",
    "        \n",
    "        \n",
    "    return r\n",
    "\n",
    "def RandomStringGenerator(length):\n",
    "    LETTERS = ['a','b','c','d','e','f','g','h','i','j','k','l','m','n',\n",
    "               'o','p','q','r','s','t','u','v','w','x','y','z','0','1',\n",
    "               '2','3','4','5','6','7','8','9']\n",
    "    s = ''\n",
    "    for i in range(length):\n",
    "        s += random.choice(LETTERS)\n",
    "    return s\n",
    "\n",
    "min_len = input('Enter minimum string length: ')\n",
    "max_len = input('Enter maximum string length: ')\n",
    "num_str = input('How many random strings to generate? ')\n",
    "\n",
    "print(BatchStringGenerator(int(num_str), int(min_len), int(max_len)))"
   ]
  },
  {
   "cell_type": "code",
   "execution_count": null,
   "metadata": {},
   "outputs": [],
   "source": []
  }
 ],
 "metadata": {
  "kernelspec": {
   "display_name": "Python 3",
   "language": "python",
   "name": "python3"
  },
  "language_info": {
   "codemirror_mode": {
    "name": "ipython",
    "version": 3
   },
   "file_extension": ".py",
   "mimetype": "text/x-python",
   "name": "python",
   "nbconvert_exporter": "python",
   "pygments_lexer": "ipython3",
   "version": "3.7.3"
  }
 },
 "nbformat": 4,
 "nbformat_minor": 2
}
